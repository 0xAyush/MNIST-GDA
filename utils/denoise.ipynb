{
 "cells": [
  {
   "cell_type": "code",
   "execution_count": 13,
   "metadata": {},
   "outputs": [],
   "source": [
    "import tensorflow as tf\n",
    "from keras.models import Model, Sequential\n",
    "from keras.layers import Input,Dense, Dropout, Flatten, Activation, Reshape"
   ]
  },
  {
   "cell_type": "code",
   "execution_count": 14,
   "metadata": {},
   "outputs": [],
   "source": [
    "ENCODING_DIM = 64"
   ]
  },
  {
   "cell_type": "code",
   "execution_count": 15,
   "metadata": {},
   "outputs": [],
   "source": [
    "mnist = tf.keras.datasets.mnist # 28x28 image of digits\n",
    "\n",
    "(x_train,y_train), (x_test,y_test) = mnist.load_data()\n",
    "\n",
    "x_train = tf.keras.utils.normalize(x_train, axis = 1)\n",
    "x_test = tf.keras.utils.normalize(x_test, axis = 1)"
   ]
  },
  {
   "cell_type": "code",
   "execution_count": 16,
   "metadata": {},
   "outputs": [],
   "source": [
    "from noisify import noisfy"
   ]
  },
  {
   "cell_type": "code",
   "execution_count": 17,
   "metadata": {},
   "outputs": [],
   "source": [
    "n_train = noisfy(x_train,28,28,0.1)\n",
    "n_test = noisfy(x_test,28,28,0.1)"
   ]
  },
  {
   "cell_type": "code",
   "execution_count": 18,
   "metadata": {},
   "outputs": [],
   "source": [
    "encoder = Sequential([\n",
    "    Flatten(input_shape=(28,28)),\n",
    "    Dropout(0.5),\n",
    "    Dense(2*ENCODING_DIM),\n",
    "    Dropout(0.5),\n",
    "    Dense(512),\n",
    "    Dropout(0.5),\n",
    "    Dense(ENCODING_DIM)\n",
    "])"
   ]
  },
  {
   "cell_type": "code",
   "execution_count": 19,
   "metadata": {},
   "outputs": [],
   "source": [
    "decoder = Sequential([\n",
    "    Dense(ENCODING_DIM),\n",
    "    Dropout(0.5),\n",
    "    Dense(2*ENCODING_DIM),\n",
    "    Dropout(0.5),\n",
    "    Dense(512),\n",
    "    Dropout(0.5),\n",
    "    Dense(784),\n",
    "    Activation('sigmoid'),\n",
    "    Reshape((28,28))\n",
    "])"
   ]
  },
  {
   "cell_type": "code",
   "execution_count": 20,
   "metadata": {},
   "outputs": [],
   "source": [
    "img = Input(shape = (28, 28))"
   ]
  },
  {
   "cell_type": "code",
   "execution_count": 21,
   "metadata": {},
   "outputs": [],
   "source": [
    "latent_vector = encoder(img)\n",
    "output = decoder(latent_vector)"
   ]
  },
  {
   "cell_type": "code",
   "execution_count": 22,
   "metadata": {},
   "outputs": [],
   "source": [
    "model = Model(inputs = img, outputs = output)\n",
    "model.compile(\"adam\", loss = \"binary_crossentropy\")"
   ]
  },
  {
   "cell_type": "code",
   "execution_count": 23,
   "metadata": {},
   "outputs": [],
   "source": [
    "EPOCHS = 60"
   ]
  },
  {
   "cell_type": "code",
   "execution_count": 24,
   "metadata": {},
   "outputs": [
    {
     "name": "stdout",
     "output_type": "stream",
     "text": [
      "Epoch 1\n",
      "235/235 [==============================] - 7s 24ms/step - loss: 0.2024\n",
      "Validating...\n",
      "313/313 [==============================] - 1s 3ms/step - loss: 0.1651\n",
      "Epoch 2\n",
      "235/235 [==============================] - 6s 24ms/step - loss: 0.1634\n",
      "Validating...\n",
      "313/313 [==============================] - 1s 3ms/step - loss: 0.1511\n",
      "Epoch 3\n",
      "235/235 [==============================] - 5s 22ms/step - loss: 0.1556\n",
      "Validating...\n",
      "313/313 [==============================] - 1s 3ms/step - loss: 0.1459\n",
      "Epoch 4\n",
      "235/235 [==============================] - 5s 22ms/step - loss: 0.1526\n",
      "Validating...\n",
      "313/313 [==============================] - 1s 3ms/step - loss: 0.1447\n",
      "Epoch 5\n",
      "235/235 [==============================] - 6s 24ms/step - loss: 0.1515\n",
      "Validating...\n",
      "313/313 [==============================] - 1s 3ms/step - loss: 0.1447\n",
      "Epoch 6\n",
      "235/235 [==============================] - 6s 27ms/step - loss: 0.1509\n",
      "Validating...\n",
      "313/313 [==============================] - 1s 3ms/step - loss: 0.1444\n",
      "Epoch 7\n",
      "235/235 [==============================] - 6s 24ms/step - loss: 0.1506\n",
      "Validating...\n",
      "313/313 [==============================] - 1s 3ms/step - loss: 0.1438\n",
      "Epoch 8\n",
      "235/235 [==============================] - 5s 23ms/step - loss: 0.1503\n",
      "Validating...\n",
      "313/313 [==============================] - 1s 3ms/step - loss: 0.1439\n",
      "Epoch 9\n",
      "235/235 [==============================] - 6s 23ms/step - loss: 0.1501\n",
      "Validating...\n",
      "313/313 [==============================] - 1s 3ms/step - loss: 0.1437\n",
      "Epoch 10\n",
      "235/235 [==============================] - 5s 22ms/step - loss: 0.1498\n",
      "Validating...\n",
      "313/313 [==============================] - 1s 3ms/step - loss: 0.1435\n",
      "Epoch 11\n",
      "235/235 [==============================] - 6s 24ms/step - loss: 0.1495\n",
      "Validating...\n",
      "313/313 [==============================] - 1s 3ms/step - loss: 0.1431\n",
      "Epoch 12\n",
      "235/235 [==============================] - 6s 24ms/step - loss: 0.1494\n",
      "Validating...\n",
      "313/313 [==============================] - 1s 3ms/step - loss: 0.1430\n",
      "Epoch 13\n",
      "235/235 [==============================] - 5s 23ms/step - loss: 0.1493\n",
      "Validating...\n",
      "313/313 [==============================] - 1s 3ms/step - loss: 0.1426\n",
      "Epoch 14\n",
      "235/235 [==============================] - 5s 23ms/step - loss: 0.1491\n",
      "Validating...\n",
      "313/313 [==============================] - 1s 3ms/step - loss: 0.1423\n",
      "Epoch 15\n",
      "235/235 [==============================] - 6s 24ms/step - loss: 0.1491\n",
      "Validating...\n",
      "313/313 [==============================] - 1s 3ms/step - loss: 0.1434\n",
      "Epoch 16\n",
      "235/235 [==============================] - 5s 23ms/step - loss: 0.1490\n",
      "Validating...\n",
      "313/313 [==============================] - 1s 3ms/step - loss: 0.1429\n",
      "Epoch 17\n",
      "235/235 [==============================] - 5s 23ms/step - loss: 0.1490\n",
      "Validating...\n",
      "313/313 [==============================] - 1s 3ms/step - loss: 0.1430\n",
      "Epoch 18\n",
      "235/235 [==============================] - 6s 23ms/step - loss: 0.1489\n",
      "Validating...\n",
      "313/313 [==============================] - 1s 3ms/step - loss: 0.1418\n",
      "Epoch 19\n",
      "235/235 [==============================] - 5s 23ms/step - loss: 0.1489\n",
      "Validating...\n",
      "313/313 [==============================] - 1s 3ms/step - loss: 0.1425\n",
      "Epoch 20\n",
      "235/235 [==============================] - 5s 23ms/step - loss: 0.1489\n",
      "Validating...\n",
      "313/313 [==============================] - 1s 3ms/step - loss: 0.1426\n",
      "Epoch 21\n",
      "235/235 [==============================] - 6s 24ms/step - loss: 0.1488\n",
      "Validating...\n",
      "313/313 [==============================] - 1s 3ms/step - loss: 0.1429\n",
      "Epoch 22\n",
      "235/235 [==============================] - 6s 23ms/step - loss: 0.1488\n",
      "Validating...\n",
      "313/313 [==============================] - 1s 3ms/step - loss: 0.1436\n",
      "Epoch 23\n",
      "235/235 [==============================] - 6s 24ms/step - loss: 0.1489\n",
      "Validating...\n",
      "313/313 [==============================] - 1s 3ms/step - loss: 0.1431\n",
      "Epoch 24\n",
      "235/235 [==============================] - 5s 23ms/step - loss: 0.1487\n",
      "Validating...\n",
      "313/313 [==============================] - 1s 3ms/step - loss: 0.1423\n",
      "Epoch 25\n",
      "235/235 [==============================] - 5s 23ms/step - loss: 0.1487\n",
      "Validating...\n",
      "313/313 [==============================] - 1s 3ms/step - loss: 0.1422\n",
      "Epoch 26\n",
      "235/235 [==============================] - 5s 23ms/step - loss: 0.1487\n",
      "Validating...\n",
      "313/313 [==============================] - 1s 3ms/step - loss: 0.1425\n",
      "Epoch 27\n",
      "235/235 [==============================] - 5s 23ms/step - loss: 0.1487\n",
      "Validating...\n",
      "313/313 [==============================] - 1s 3ms/step - loss: 0.1430\n",
      "Epoch 28\n",
      "235/235 [==============================] - 7s 30ms/step - loss: 0.1487\n",
      "Validating...\n",
      "313/313 [==============================] - 1s 3ms/step - loss: 0.1426\n",
      "Epoch 29\n",
      "235/235 [==============================] - 5s 23ms/step - loss: 0.1486\n",
      "Validating...\n",
      "313/313 [==============================] - 1s 3ms/step - loss: 0.1423\n",
      "Epoch 30\n",
      "235/235 [==============================] - 5s 23ms/step - loss: 0.1487\n",
      "Validating...\n",
      "313/313 [==============================] - 1s 3ms/step - loss: 0.1423\n",
      "Epoch 31\n",
      "235/235 [==============================] - 5s 23ms/step - loss: 0.1486\n",
      "Validating...\n",
      "313/313 [==============================] - 1s 3ms/step - loss: 0.1418\n",
      "Epoch 32\n",
      "235/235 [==============================] - 5s 23ms/step - loss: 0.1486\n",
      "Validating...\n",
      "313/313 [==============================] - 1s 3ms/step - loss: 0.1428\n",
      "Epoch 33\n",
      "235/235 [==============================] - 6s 24ms/step - loss: 0.1485\n",
      "Validating...\n",
      "313/313 [==============================] - 1s 3ms/step - loss: 0.1418\n",
      "Epoch 34\n",
      "235/235 [==============================] - 5s 23ms/step - loss: 0.1487\n",
      "Validating...\n",
      "313/313 [==============================] - 1s 3ms/step - loss: 0.1422\n",
      "Epoch 35\n",
      "235/235 [==============================] - 5s 23ms/step - loss: 0.1486\n",
      "Validating...\n",
      "313/313 [==============================] - 1s 3ms/step - loss: 0.1428\n",
      "Epoch 36\n",
      "235/235 [==============================] - 5s 23ms/step - loss: 0.1485\n",
      "Validating...\n",
      "313/313 [==============================] - 1s 3ms/step - loss: 0.1425\n",
      "Epoch 37\n",
      "235/235 [==============================] - 5s 23ms/step - loss: 0.1485\n",
      "Validating...\n",
      "313/313 [==============================] - 1s 3ms/step - loss: 0.1423\n",
      "Epoch 38\n",
      "235/235 [==============================] - 7s 32ms/step - loss: 0.1485\n",
      "Validating...\n",
      "313/313 [==============================] - 1s 5ms/step - loss: 0.1421\n",
      "Epoch 39\n",
      "235/235 [==============================] - 7s 28ms/step - loss: 0.1485\n",
      "Validating...\n",
      "313/313 [==============================] - 1s 4ms/step - loss: 0.1422\n",
      "Epoch 40\n",
      "235/235 [==============================] - 6s 27ms/step - loss: 0.1485\n",
      "Validating...\n",
      "313/313 [==============================] - 1s 4ms/step - loss: 0.1422\n",
      "Epoch 41\n",
      "235/235 [==============================] - 6s 26ms/step - loss: 0.1484\n",
      "Validating...\n",
      "313/313 [==============================] - 1s 3ms/step - loss: 0.1423\n",
      "Epoch 42\n",
      "235/235 [==============================] - 6s 27ms/step - loss: 0.1485\n",
      "Validating...\n",
      "313/313 [==============================] - 1s 4ms/step - loss: 0.1415\n",
      "Epoch 43\n",
      "235/235 [==============================] - 6s 27ms/step - loss: 0.1484\n",
      "Validating...\n",
      "313/313 [==============================] - 1s 4ms/step - loss: 0.1425\n",
      "Epoch 44\n",
      "235/235 [==============================] - 6s 25ms/step - loss: 0.1484\n",
      "Validating...\n",
      "313/313 [==============================] - 1s 3ms/step - loss: 0.1418\n",
      "Epoch 45\n",
      "235/235 [==============================] - 6s 26ms/step - loss: 0.1484\n",
      "Validating...\n",
      "313/313 [==============================] - 1s 3ms/step - loss: 0.1421\n",
      "Epoch 46\n",
      "235/235 [==============================] - 6s 25ms/step - loss: 0.1484\n",
      "Validating...\n",
      "313/313 [==============================] - 1s 3ms/step - loss: 0.1423\n",
      "Epoch 47\n",
      "235/235 [==============================] - 6s 25ms/step - loss: 0.1484\n",
      "Validating...\n",
      "313/313 [==============================] - 1s 3ms/step - loss: 0.1427\n",
      "Epoch 48\n",
      "235/235 [==============================] - 6s 25ms/step - loss: 0.1484\n",
      "Validating...\n",
      "313/313 [==============================] - 1s 3ms/step - loss: 0.1415\n",
      "Epoch 49\n",
      "235/235 [==============================] - 6s 24ms/step - loss: 0.1484\n",
      "Validating...\n",
      "313/313 [==============================] - 1s 3ms/step - loss: 0.1425\n",
      "Epoch 50\n",
      "235/235 [==============================] - 6s 24ms/step - loss: 0.1484\n",
      "Validating...\n",
      "313/313 [==============================] - 1s 3ms/step - loss: 0.1416\n",
      "Epoch 51\n",
      "235/235 [==============================] - 6s 25ms/step - loss: 0.1484\n",
      "Validating...\n",
      "313/313 [==============================] - 1s 3ms/step - loss: 0.1415\n",
      "Epoch 52\n",
      "235/235 [==============================] - 6s 24ms/step - loss: 0.1484\n",
      "Validating...\n",
      "313/313 [==============================] - 1s 3ms/step - loss: 0.1425\n",
      "Epoch 53\n",
      "235/235 [==============================] - 6s 25ms/step - loss: 0.1483\n",
      "Validating...\n",
      "313/313 [==============================] - 1s 3ms/step - loss: 0.1420\n",
      "Epoch 54\n",
      "235/235 [==============================] - 6s 24ms/step - loss: 0.1483\n",
      "Validating...\n",
      "313/313 [==============================] - 1s 3ms/step - loss: 0.1424\n",
      "Epoch 55\n",
      "235/235 [==============================] - 5s 23ms/step - loss: 0.1483\n",
      "Validating...\n",
      "313/313 [==============================] - 1s 3ms/step - loss: 0.1423\n",
      "Epoch 56\n",
      "235/235 [==============================] - 6s 24ms/step - loss: 0.1484\n",
      "Validating...\n",
      "313/313 [==============================] - 1s 3ms/step - loss: 0.1423\n",
      "Epoch 57\n",
      "235/235 [==============================] - 6s 26ms/step - loss: 0.1483\n",
      "Validating...\n",
      "313/313 [==============================] - 1s 4ms/step - loss: 0.1421\n",
      "Epoch 58\n",
      "235/235 [==============================] - 6s 26ms/step - loss: 0.1483\n",
      "Validating...\n",
      "313/313 [==============================] - 1s 3ms/step - loss: 0.1414\n",
      "Epoch 59\n",
      "235/235 [==============================] - 6s 24ms/step - loss: 0.1483\n",
      "Validating...\n",
      "313/313 [==============================] - 1s 3ms/step - loss: 0.1426\n",
      "Epoch 60\n",
      "235/235 [==============================] - 6s 25ms/step - loss: 0.1483\n",
      "Validating...\n",
      "313/313 [==============================] - 1s 3ms/step - loss: 0.1427\n"
     ]
    }
   ],
   "source": [
    "loss_trend = []\n",
    "for i in range(EPOCHS):\n",
    "    print(\"Epoch {}\".format(i+1))\n",
    "    model.fit(n_train, x_train,epochs=1,batch_size=256)\n",
    "    print(\"Validating...\")\n",
    "    loss_trend.append(model.evaluate(n_test,x_test))"
   ]
  },
  {
   "cell_type": "code",
   "execution_count": 25,
   "metadata": {},
   "outputs": [],
   "source": [
    "import matplotlib.pyplot as plt"
   ]
  },
  {
   "cell_type": "code",
   "execution_count": 26,
   "metadata": {},
   "outputs": [
    {
     "data": {
      "image/png": "[encoded data removed]",
      "text/plain": [
       "<Figure size 640x480 with 1 Axes>"
      ]
     },
     "metadata": {},
     "output_type": "display_data"
    },
    {
     "data": {
      "text/plain": [
       "<Figure size 640x480 with 0 Axes>"
      ]
     },
     "metadata": {},
     "output_type": "display_data"
    }
   ],
   "source": [
    "plt.plot(loss_trend)\n",
    "plt.title('Loss over time')\n",
    "plt.show()\n",
    "plt.savefig('img/loss.png')"
   ]
  },
  {
   "cell_type": "code",
   "execution_count": 27,
   "metadata": {},
   "outputs": [
    {
     "name": "stdout",
     "output_type": "stream",
     "text": [
      "313/313 [==============================] - 1s 3ms/step\n"
     ]
    }
   ],
   "source": [
    "decoded = model.predict(x_test)"
   ]
  },
  {
   "cell_type": "code",
   "execution_count": 30,
   "metadata": {},
   "outputs": [
    {
     "data": {
      "image/png": "[encoded data removed]",
      "text/plain": [
       "<Figure size 640x480 with 1 Axes>"
      ]
     },
     "metadata": {},
     "output_type": "display_data"
    },
    {
     "data": {
      "image/png": "[encoded data removed]",
      "text/plain": [
       "<Figure size 640x480 with 1 Axes>"
      ]
     },
     "metadata": {},
     "output_type": "display_data"
    },
    {
     "data": {
      "image/png": "[encoded data removed]",
      "text/plain": [
       "<Figure size 640x480 with 1 Axes>"
      ]
     },
     "metadata": {},
     "output_type": "display_data"
    }
   ],
   "source": [
    "plt.imshow(x_test[7],cmap='gray')\n",
    "plt.show()\n",
    "plt.imshow(n_test[7],cmap='gray')\n",
    "plt.show()\n",
    "plt.imshow(decoded[7],cmap='gray')\n",
    "plt.show()"
   ]
  },
  {
   "cell_type": "code",
   "execution_count": 29,
   "metadata": {},
   "outputs": [],
   "source": [
    "import pickle\n",
    "\n",
    "with open('pickle_objects/test_data.pickle','wb') as fs:\n",
    "    pickle.dump(x_test,fs)\n",
    "\n",
    "with open('pickle_objects/noisy_test_data.pickle','wb') as fs:\n",
    "    pickle.dump(n_test,fs)\n",
    "\n",
    "with open('pickle_objects/decoded.pickle','wb') as fs:\n",
    "    pickle.dump(decoded,fs)"
   ]
  },
  {
   "cell_type": "code",
   "execution_count": 31,
   "metadata": {},
   "outputs": [],
   "source": [
    "model.save('denoiser1.h5')"
   ]
  }
 ],
 "metadata": {
  "kernelspec": {
   "display_name": "Python 3",
   "language": "python",
   "name": "python3"
  },
  "language_info": {
   "codemirror_mode": {
    "name": "ipython",
    "version": 3
   },
   "file_extension": ".py",
   "mimetype": "text/x-python",
   "name": "python",
   "nbconvert_exporter": "python",
   "pygments_lexer": "ipython3",
   "version": "3.11.2"
  },
  "orig_nbformat": 4
 },
 "nbformat": 4,
 "nbformat_minor": 2
}
