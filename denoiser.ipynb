{
 "cells": [
  {
   "cell_type": "code",
   "execution_count": 1,
   "metadata": {},
   "outputs": [],
   "source": [
    "import numpy as np\n",
    "import matplotlib.pyplot as plt\n",
    "\n",
    "import tensorflow as tf\n",
    "from keras.models import Model, Sequential\n",
    "from keras.layers import Dense, Dropout, Input, Flatten, Reshape,Activation"
   ]
  },
  {
   "cell_type": "code",
   "execution_count": 2,
   "metadata": {},
   "outputs": [],
   "source": [
    "from noisify import noise_gen, noisify"
   ]
  },
  {
   "cell_type": "code",
   "execution_count": 3,
   "metadata": {},
   "outputs": [],
   "source": [
    "latent_dim = 64\n",
    "EPOCHS = 12"
   ]
  },
  {
   "cell_type": "code",
   "execution_count": 4,
   "metadata": {},
   "outputs": [],
   "source": [
    "encoder = Sequential([\n",
    "    Flatten(input_shape=(28,28)),\n",
    "    Dropout(0.5),\n",
    "    Dense(latent_dim)\n",
    "])"
   ]
  },
  {
   "cell_type": "code",
   "execution_count": 5,
   "metadata": {},
   "outputs": [],
   "source": [
    "decoder = Sequential([\n",
    "    Dense(784),\n",
    "    Activation('sigmoid'),\n",
    "    Reshape((28,28))\n",
    "])"
   ]
  },
  {
   "cell_type": "code",
   "execution_count": 7,
   "metadata": {},
   "outputs": [],
   "source": [
    "img = Input(shape=(28,28))"
   ]
  },
  {
   "cell_type": "code",
   "execution_count": 8,
   "metadata": {},
   "outputs": [],
   "source": [
    "latent_vec = encoder(img)\n",
    "output = decoder(latent_vec)"
   ]
  },
  {
   "cell_type": "code",
   "execution_count": 9,
   "metadata": {},
   "outputs": [],
   "source": [
    "model = Model(inputs = img, outputs = output)"
   ]
  },
  {
   "cell_type": "code",
   "execution_count": 10,
   "metadata": {},
   "outputs": [],
   "source": [
    "model.compile(\n",
    "    optimizer='adam',\n",
    "    loss='binary_crossentropy'\n",
    ")"
   ]
  },
  {
   "cell_type": "code",
   "execution_count": 11,
   "metadata": {},
   "outputs": [],
   "source": [
    "mnist = tf.keras.datasets.mnist # 28x28 image of digits\n",
    "\n",
    "(x_train,y_train), (x_test,y_test) = mnist.load_data()\n",
    "\n",
    "x_train = tf.keras.utils.normalize(x_train, axis = 1)\n",
    "x_test = tf.keras.utils.normalize(x_test, axis = 1)"
   ]
  },
  {
   "cell_type": "code",
   "execution_count": 12,
   "metadata": {},
   "outputs": [],
   "source": [
    "n_train = noisify(x_train,28,28,0.75)\n",
    "n_test = noisify(x_test,28,28,0.75)"
   ]
  },
  {
   "cell_type": "code",
   "execution_count": 13,
   "metadata": {},
   "outputs": [
    {
     "name": "stdout",
     "output_type": "stream",
     "text": [
      "Traing epoch 1\n",
      "235/235 [==============================] - 3s 9ms/step - loss: 0.2164 - val_loss: 0.1628\n",
      "Validating epoch 1\n",
      "313/313 [==============================] - 0s 1ms/step - loss: 0.1628\n",
      "Traing epoch 2\n",
      "235/235 [==============================] - 4s 16ms/step - loss: 0.1534 - val_loss: 0.1499\n",
      "Validating epoch 2\n",
      "313/313 [==============================] - 1s 2ms/step - loss: 0.1499\n",
      "Traing epoch 3\n",
      "235/235 [==============================] - 3s 12ms/step - loss: 0.1439 - val_loss: 0.1448\n",
      "Validating epoch 3\n",
      "313/313 [==============================] - 1s 2ms/step - loss: 0.1448\n",
      "Traing epoch 4\n",
      "235/235 [==============================] - 3s 12ms/step - loss: 0.1386 - val_loss: 0.1421\n",
      "Validating epoch 4\n",
      "313/313 [==============================] - 1s 2ms/step - loss: 0.1421\n",
      "Traing epoch 5\n",
      "235/235 [==============================] - 3s 14ms/step - loss: 0.1351 - val_loss: 0.1410\n",
      "Validating epoch 5\n",
      "313/313 [==============================] - 0s 1ms/step - loss: 0.1410\n",
      "Traing epoch 6\n",
      "235/235 [==============================] - 2s 9ms/step - loss: 0.1328 - val_loss: 0.1406\n",
      "Validating epoch 6\n",
      "313/313 [==============================] - 0s 1ms/step - loss: 0.1406\n",
      "Traing epoch 7\n",
      "235/235 [==============================] - 3s 11ms/step - loss: 0.1310 - val_loss: 0.1400\n",
      "Validating epoch 7\n",
      "313/313 [==============================] - 0s 1ms/step - loss: 0.1400\n",
      "Traing epoch 8\n",
      "235/235 [==============================] - 3s 12ms/step - loss: 0.1296 - val_loss: 0.1397\n",
      "Validating epoch 8\n",
      "313/313 [==============================] - 1s 2ms/step - loss: 0.1397\n",
      "Traing epoch 9\n",
      "235/235 [==============================] - 2s 9ms/step - loss: 0.1285 - val_loss: 0.1386\n",
      "Validating epoch 9\n",
      "313/313 [==============================] - 1s 2ms/step - loss: 0.1386\n",
      "Traing epoch 10\n",
      "235/235 [==============================] - 2s 9ms/step - loss: 0.1277 - val_loss: 0.1378\n",
      "Validating epoch 10\n",
      "313/313 [==============================] - 0s 1ms/step - loss: 0.1378\n",
      "Traing epoch 11\n",
      "235/235 [==============================] - 2s 10ms/step - loss: 0.1272 - val_loss: 0.1370\n",
      "Validating epoch 11\n",
      "313/313 [==============================] - 0s 1ms/step - loss: 0.1370\n",
      "Traing epoch 12\n",
      "235/235 [==============================] - 2s 11ms/step - loss: 0.1268 - val_loss: 0.1368\n",
      "Validating epoch 12\n",
      "313/313 [==============================] - 0s 1ms/step - loss: 0.1368\n"
     ]
    }
   ],
   "source": [
    "loss_trend = []\n",
    "\n",
    "for i in range(EPOCHS):\n",
    "    print(\"Traing epoch {}\".format(i + 1))\n",
    "    model.fit(x_train,x_train,epochs=1,validation_data=(n_test,x_test),batch_size=256)\n",
    "    print(\"Validating epoch {}\".format(i + 1))\n",
    "    loss_trend.append(model.evaluate(n_test,x_test))"
   ]
  },
  {
   "cell_type": "code",
   "execution_count": null,
   "metadata": {},
   "outputs": [
    {
     "name": "stdout",
     "output_type": "stream",
     "text": [
      "313/313 [==============================] - 1s 2ms/step\n"
     ]
    }
   ],
   "source": [
    "decoded = model.predict(x_test)"
   ]
  },
  {
   "cell_type": "code",
   "execution_count": null,
   "metadata": {},
   "outputs": [],
   "source": [
    "# t = 0\n",
    "# for x in decoded:\n",
    "#     plt.imshow(x_test[t],cmap='gray')\n",
    "#     plt.savefig(\"img/mnist/natural/{}.png\".format(t))\n",
    "#     plt.imshow(n_test[t],cmap='gray')\n",
    "#     plt.savefig(\"img/mnist/noise/{}.png\".format(t))\n",
    "#     plt.imshow(x,cmap='gray')\n",
    "#     plt.savefig(\"img/mnist/ident/{}.png\".format(t))\n",
    "#     if(t > 12):\n",
    "#         break\n",
    "#     t += 1"
   ]
  },
  {
   "cell_type": "code",
   "execution_count": 14,
   "metadata": {},
   "outputs": [
    {
     "data": {
      "image/png": "[encoded data removed]",
      "text/plain": [
       "<Figure size 640x480 with 1 Axes>"
      ]
     },
     "metadata": {},
     "output_type": "display_data"
    }
   ],
   "source": [
    "plt.plot(loss_trend)\n",
    "plt.title('Loss over time')\n",
    "plt.savefig('img/loss_denoiser3.png')"
   ]
  },
  {
   "cell_type": "code",
   "execution_count": 15,
   "metadata": {},
   "outputs": [],
   "source": [
    "model.save('denoiser3.h5')"
   ]
  }
 ],
 "metadata": {
  "kernelspec": {
   "display_name": "Python 3",
   "language": "python",
   "name": "python3"
  },
  "language_info": {
   "codemirror_mode": {
    "name": "ipython",
    "version": 3
   },
   "file_extension": ".py",
   "mimetype": "text/x-python",
   "name": "python",
   "nbconvert_exporter": "python",
   "pygments_lexer": "ipython3",
   "version": "3.11.2"
  },
  "orig_nbformat": 4
 },
 "nbformat": 4,
 "nbformat_minor": 2
}
