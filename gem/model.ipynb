{
 "cells": [
  {
   "cell_type": "code",
   "execution_count": 76,
   "metadata": {},
   "outputs": [],
   "source": [
    "import numpy as np\n",
    "import matplotlib.pyplot as plt\n",
    "import pickle"
   ]
  },
  {
   "cell_type": "code",
   "execution_count": 77,
   "metadata": {},
   "outputs": [],
   "source": [
    "import tensorflow as tf"
   ]
  },
  {
   "cell_type": "code",
   "execution_count": 78,
   "metadata": {},
   "outputs": [],
   "source": [
    "from keras.models import Sequential, Model\n",
    "from keras.layers import Activation, LeakyReLU as LR, Dense, Dropout, Flatten, Reshape, Input\n",
    "from keras.datasets import mnist"
   ]
  },
  {
   "cell_type": "code",
   "execution_count": 79,
   "metadata": {},
   "outputs": [],
   "source": [
    "encoder = Sequential([\n",
    "    Flatten(),\n",
    "    Dropout(0.5),\n",
    "    Dense(128),\n",
    "    Dropout(0.5),\n",
    "    Dense(64)\n",
    "])"
   ]
  },
  {
   "cell_type": "code",
   "execution_count": 80,
   "metadata": {},
   "outputs": [],
   "source": [
    "decoder = Sequential([\n",
    "    Dense(64),\n",
    "    Dense(128),\n",
    "    Dropout(0.5),\n",
    "    Dense(28*28),\n",
    "    Activation('sigmoid'),\n",
    "    Reshape((28,28))\n",
    "])"
   ]
  },
  {
   "cell_type": "code",
   "execution_count": 81,
   "metadata": {},
   "outputs": [],
   "source": [
    "((X_train,y_train),(X_test,y_test)) = mnist.load_data()"
   ]
  },
  {
   "cell_type": "code",
   "execution_count": 82,
   "metadata": {},
   "outputs": [],
   "source": [
    "X_train = X_train/255.0\n",
    "X_test = X_test/255.0"
   ]
  },
  {
   "cell_type": "code",
   "execution_count": 83,
   "metadata": {},
   "outputs": [],
   "source": [
    "img = Input(shape=(28,28))"
   ]
  },
  {
   "cell_type": "code",
   "execution_count": 84,
   "metadata": {},
   "outputs": [],
   "source": [
    "code = encoder(img)\n",
    "reconstruction = decoder(code)"
   ]
  },
  {
   "cell_type": "code",
   "execution_count": 85,
   "metadata": {},
   "outputs": [],
   "source": [
    "model = Model(inputs=img,outputs=reconstruction)"
   ]
  },
  {
   "cell_type": "code",
   "execution_count": 86,
   "metadata": {},
   "outputs": [],
   "source": [
    "model.compile(\n",
    "    loss='binary_crossentropy',\n",
    "    optimizer='adam'\n",
    ")"
   ]
  },
  {
   "cell_type": "code",
   "execution_count": 87,
   "metadata": {},
   "outputs": [
    {
     "name": "stdout",
     "output_type": "stream",
     "text": [
      "Epoch 1/50\n",
      "235/235 [==============================] - 5s 16ms/step - loss: 0.2632 - val_loss: 0.1749\n",
      "Epoch 2/50\n",
      "235/235 [==============================] - 4s 15ms/step - loss: 0.1916 - val_loss: 0.1545\n",
      "Epoch 3/50\n",
      "235/235 [==============================] - 4s 15ms/step - loss: 0.1829 - val_loss: 0.1480\n",
      "Epoch 4/50\n",
      "235/235 [==============================] - 3s 14ms/step - loss: 0.1794 - val_loss: 0.1438\n",
      "Epoch 5/50\n",
      "235/235 [==============================] - 4s 15ms/step - loss: 0.1775 - val_loss: 0.1418\n",
      "Epoch 6/50\n",
      "235/235 [==============================] - 4s 16ms/step - loss: 0.1764 - val_loss: 0.1405\n",
      "Epoch 7/50\n",
      "235/235 [==============================] - 3s 14ms/step - loss: 0.1751 - val_loss: 0.1392\n",
      "Epoch 8/50\n",
      "235/235 [==============================] - 4s 15ms/step - loss: 0.1744 - val_loss: 0.1396\n",
      "Epoch 9/50\n",
      "235/235 [==============================] - 3s 15ms/step - loss: 0.1739 - val_loss: 0.1381\n",
      "Epoch 10/50\n",
      "235/235 [==============================] - 3s 14ms/step - loss: 0.1735 - val_loss: 0.1376\n",
      "Epoch 11/50\n",
      "235/235 [==============================] - 3s 15ms/step - loss: 0.1731 - val_loss: 0.1375\n",
      "Epoch 12/50\n",
      "235/235 [==============================] - 3s 14ms/step - loss: 0.1727 - val_loss: 0.1368\n",
      "Epoch 13/50\n",
      "235/235 [==============================] - 4s 16ms/step - loss: 0.1724 - val_loss: 0.1366\n",
      "Epoch 14/50\n",
      "235/235 [==============================] - 4s 15ms/step - loss: 0.1721 - val_loss: 0.1366\n",
      "Epoch 15/50\n",
      "235/235 [==============================] - 3s 15ms/step - loss: 0.1720 - val_loss: 0.1358\n",
      "Epoch 16/50\n",
      "235/235 [==============================] - 4s 15ms/step - loss: 0.1720 - val_loss: 0.1361\n",
      "Epoch 17/50\n",
      "235/235 [==============================] - 3s 14ms/step - loss: 0.1717 - val_loss: 0.1357\n",
      "Epoch 18/50\n",
      "235/235 [==============================] - 4s 15ms/step - loss: 0.1714 - val_loss: 0.1351\n",
      "Epoch 19/50\n",
      "235/235 [==============================] - 3s 14ms/step - loss: 0.1710 - val_loss: 0.1349\n",
      "Epoch 20/50\n",
      "235/235 [==============================] - 3s 14ms/step - loss: 0.1707 - val_loss: 0.1346\n",
      "Epoch 21/50\n",
      "235/235 [==============================] - 4s 15ms/step - loss: 0.1706 - val_loss: 0.1343\n",
      "Epoch 22/50\n",
      "235/235 [==============================] - 4s 15ms/step - loss: 0.1706 - val_loss: 0.1342\n",
      "Epoch 23/50\n",
      "235/235 [==============================] - 3s 14ms/step - loss: 0.1703 - val_loss: 0.1338\n",
      "Epoch 24/50\n",
      "235/235 [==============================] - 3s 13ms/step - loss: 0.1701 - val_loss: 0.1332\n",
      "Epoch 25/50\n",
      "235/235 [==============================] - 4s 15ms/step - loss: 0.1697 - val_loss: 0.1326\n",
      "Epoch 26/50\n",
      "235/235 [==============================] - 4s 15ms/step - loss: 0.1697 - val_loss: 0.1327\n",
      "Epoch 27/50\n",
      "235/235 [==============================] - 3s 15ms/step - loss: 0.1694 - val_loss: 0.1319\n",
      "Epoch 28/50\n",
      "235/235 [==============================] - 3s 15ms/step - loss: 0.1693 - val_loss: 0.1320\n",
      "Epoch 29/50\n",
      "235/235 [==============================] - 3s 15ms/step - loss: 0.1692 - val_loss: 0.1324\n",
      "Epoch 30/50\n",
      "235/235 [==============================] - 3s 15ms/step - loss: 0.1692 - val_loss: 0.1328\n",
      "Epoch 31/50\n",
      "235/235 [==============================] - 4s 16ms/step - loss: 0.1688 - val_loss: 0.1320\n",
      "Epoch 32/50\n",
      "235/235 [==============================] - 3s 14ms/step - loss: 0.1688 - val_loss: 0.1328\n",
      "Epoch 33/50\n",
      "235/235 [==============================] - 3s 14ms/step - loss: 0.1688 - val_loss: 0.1324\n",
      "Epoch 34/50\n",
      "235/235 [==============================] - 4s 16ms/step - loss: 0.1687 - val_loss: 0.1317\n",
      "Epoch 35/50\n",
      "235/235 [==============================] - 4s 15ms/step - loss: 0.1685 - val_loss: 0.1314\n",
      "Epoch 36/50\n",
      "235/235 [==============================] - 4s 16ms/step - loss: 0.1685 - val_loss: 0.1324\n",
      "Epoch 37/50\n",
      "235/235 [==============================] - 3s 14ms/step - loss: 0.1684 - val_loss: 0.1313\n",
      "Epoch 38/50\n",
      "235/235 [==============================] - 4s 15ms/step - loss: 0.1685 - val_loss: 0.1307\n",
      "Epoch 39/50\n",
      "235/235 [==============================] - 3s 14ms/step - loss: 0.1682 - val_loss: 0.1312\n",
      "Epoch 40/50\n",
      "235/235 [==============================] - 3s 14ms/step - loss: 0.1682 - val_loss: 0.1317\n",
      "Epoch 41/50\n",
      "235/235 [==============================] - 3s 14ms/step - loss: 0.1682 - val_loss: 0.1314\n",
      "Epoch 42/50\n",
      "235/235 [==============================] - 3s 15ms/step - loss: 0.1682 - val_loss: 0.1312\n",
      "Epoch 43/50\n",
      "235/235 [==============================] - 4s 15ms/step - loss: 0.1680 - val_loss: 0.1305\n",
      "Epoch 44/50\n",
      "235/235 [==============================] - 4s 15ms/step - loss: 0.1678 - val_loss: 0.1302\n",
      "Epoch 45/50\n",
      "235/235 [==============================] - 3s 15ms/step - loss: 0.1676 - val_loss: 0.1306\n",
      "Epoch 46/50\n",
      "235/235 [==============================] - 3s 13ms/step - loss: 0.1677 - val_loss: 0.1313\n",
      "Epoch 47/50\n",
      "235/235 [==============================] - 4s 15ms/step - loss: 0.1676 - val_loss: 0.1301\n",
      "Epoch 48/50\n",
      "235/235 [==============================] - 3s 15ms/step - loss: 0.1676 - val_loss: 0.1311\n",
      "Epoch 49/50\n",
      "235/235 [==============================] - 4s 16ms/step - loss: 0.1674 - val_loss: 0.1304\n",
      "Epoch 50/50\n",
      "235/235 [==============================] - 3s 14ms/step - loss: 0.1674 - val_loss: 0.1300\n"
     ]
    },
    {
     "data": {
      "text/plain": [
       "<keras.callbacks.History at 0x1102dbcf090>"
      ]
     },
     "execution_count": 87,
     "metadata": {},
     "output_type": "execute_result"
    }
   ],
   "source": [
    "model.fit(X_train,X_train,epochs=50,validation_data=(X_test,X_test),batch_size=256)"
   ]
  },
  {
   "cell_type": "code",
   "execution_count": 88,
   "metadata": {},
   "outputs": [
    {
     "name": "stdout",
     "output_type": "stream",
     "text": [
      "313/313 [==============================] - 1s 2ms/step\n"
     ]
    }
   ],
   "source": [
    "predictions = model.predict([X_test])"
   ]
  },
  {
   "cell_type": "code",
   "execution_count": 89,
   "metadata": {},
   "outputs": [
    {
     "data": {
      "image/png": "[encoded data removed]",
      "text/plain": [
       "<Figure size 640x480 with 1 Axes>"
      ]
     },
     "metadata": {},
     "output_type": "display_data"
    },
    {
     "data": {
      "image/png": "[encoded data removed]",
      "text/plain": [
       "<Figure size 640x480 with 1 Axes>"
      ]
     },
     "metadata": {},
     "output_type": "display_data"
    }
   ],
   "source": [
    "plt.imshow(X_test[0],cmap='gray')\n",
    "plt.show()\n",
    "plt.imshow(predictions[0],cmap='gray')\n",
    "plt.show()"
   ]
  },
  {
   "cell_type": "code",
   "execution_count": 90,
   "metadata": {},
   "outputs": [],
   "source": [
    "rando = Sequential([\n",
    "    Dense(64),\n",
    "    Dense(128),\n",
    "    Dropout(0.5),\n",
    "    Dense(28*28),\n",
    "    Activation(\"sigmoid\"),\n",
    "    Reshape((28,28))\n",
    "])"
   ]
  },
  {
   "cell_type": "code",
   "execution_count": 91,
   "metadata": {},
   "outputs": [],
   "source": [
    "lcode = Input(shape=(64))\n",
    "generation = rando(lcode)\n",
    "randogen = Model(inputs=lcode,outputs=generation)"
   ]
  },
  {
   "cell_type": "code",
   "execution_count": 92,
   "metadata": {},
   "outputs": [],
   "source": [
    "i_train = []\n",
    "for x in range(len(X_train)):\n",
    "    i_train.append(np.random.rand(64))\n",
    "i_train = np.array(i_train)"
   ]
  },
  {
   "cell_type": "code",
   "execution_count": 93,
   "metadata": {},
   "outputs": [],
   "source": [
    "randogen.compile(\n",
    "    loss='binary_crossentropy',\n",
    "    optimizer='adam'\n",
    ")"
   ]
  },
  {
   "cell_type": "code",
   "execution_count": 94,
   "metadata": {},
   "outputs": [
    {
     "name": "stdout",
     "output_type": "stream",
     "text": [
      "235/235 [==============================] - 3s 10ms/step - loss: 0.2958\n"
     ]
    },
    {
     "data": {
      "text/plain": [
       "<keras.callbacks.History at 0x11064844ed0>"
      ]
     },
     "execution_count": 94,
     "metadata": {},
     "output_type": "execute_result"
    }
   ],
   "source": [
    "randogen.fit(i_train,X_train,\n",
    "             epochs=1,\n",
    "             batch_size=256,\n",
    "             )"
   ]
  },
  {
   "cell_type": "code",
   "execution_count": 95,
   "metadata": {},
   "outputs": [
    {
     "name": "stdout",
     "output_type": "stream",
     "text": [
      "WARNING:tensorflow:Layers in a Sequential model should only have a single input tensor. Received: inputs=(<tf.Tensor 'IteratorGetNext:0' shape=(32, 64) dtype=float32>,). Consider rewriting this model with the Functional API.\n",
      "1875/1875 [==============================] - 4s 2ms/step\n"
     ]
    }
   ],
   "source": [
    "clones = decoder.predict([i_train])"
   ]
  },
  {
   "cell_type": "code",
   "execution_count": 96,
   "metadata": {},
   "outputs": [
    {
     "data": {
      "image/png": "[encoded data removed]",
      "text/plain": [
       "<Figure size 640x480 with 1 Axes>"
      ]
     },
     "metadata": {},
     "output_type": "display_data"
    },
    {
     "data": {
      "image/png": "[encoded data removed]",
      "text/plain": [
       "<Figure size 640x480 with 1 Axes>"
      ]
     },
     "metadata": {},
     "output_type": "display_data"
    }
   ],
   "source": [
    "i = 245\n",
    "plt.imshow(X_train[i],cmap='gray')\n",
    "plt.show()\n",
    "plt.imshow(clones[i],cmap='gray')\n",
    "plt.show()"
   ]
  },
  {
   "cell_type": "code",
   "execution_count": 97,
   "metadata": {},
   "outputs": [
    {
     "name": "stdout",
     "output_type": "stream",
     "text": [
      "WARNING:tensorflow:Layers in a Sequential model should only have a single input tensor. Received: inputs=(<tf.Tensor 'IteratorGetNext:0' shape=(32, 28, 28) dtype=float32>,). Consider rewriting this model with the Functional API.\n",
      "1875/1875 [==============================] - 3s 1ms/step\n"
     ]
    }
   ],
   "source": [
    "codes = encoder.predict([X_train])"
   ]
  },
  {
   "cell_type": "code",
   "execution_count": 98,
   "metadata": {},
   "outputs": [
    {
     "name": "stdout",
     "output_type": "stream",
     "text": [
      "WARNING:tensorflow:Compiled the loaded model, but the compiled metrics have yet to be built. `model.compile_metrics` will be empty until you train or evaluate the model.\n",
      "WARNING:tensorflow:Compiled the loaded model, but the compiled metrics have yet to be built. `model.compile_metrics` will be empty until you train or evaluate the model.\n"
     ]
    }
   ],
   "source": [
    "encoder.save('encoder.h5')\n",
    "decoder.save('decoder.h5')\n",
    "\n",
    "with open('codes.dat','wb') as pf:\n",
    "    pickle.dump(codes,pf)"
   ]
  }
 ],
 "metadata": {
  "kernelspec": {
   "display_name": "Python 3",
   "language": "python",
   "name": "python3"
  },
  "language_info": {
   "codemirror_mode": {
    "name": "ipython",
    "version": 3
   },
   "file_extension": ".py",
   "mimetype": "text/x-python",
   "name": "python",
   "nbconvert_exporter": "python",
   "pygments_lexer": "ipython3",
   "version": "3.11.2"
  },
  "orig_nbformat": 4
 },
 "nbformat": 4,
 "nbformat_minor": 2
}
